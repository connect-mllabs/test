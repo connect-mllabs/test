{
 "cells": [
  {
   "cell_type": "code",
   "execution_count": null,
   "id": "abf540eb",
   "metadata": {},
   "outputs": [],
   "source": [
    "1.Linear Regression Introduction\n",
    "2.Linear Regression Assumptions\n",
    "3.Simple Linear Regression \n",
    "4.Multiple Linear Regresssion\n",
    "5.Linear Regression Assumptions\n",
    "6.Linear Regression Implementation - SK Learn\n",
    "7.Linear Regression Implementation - STATS MODELS\n",
    "8.Linear Regression Implementation - Scipy\n",
    "9.Linear Regression Implementation - Algebra\n",
    "10.Variance Bias Tradeoff\n",
    "11.Lasso Regression\n",
    "12.Ridge Regression\n",
    "13.Elastic Net Regression\n",
    "14.Gradient Descent Implementation\n",
    "15.Linear Regression Case Study 1\n",
    "16.Linear Regression Case Study 2\n",
    "17.Linear Regression Case Study 3\n",
    "18.Linear Regression Case Study 4\n",
    "19.Linear Regression Case Study 5\n",
    "20.Linear Regression Case Study 6\n",
    "21.Linear Regression Case Study 7\n",
    "22.Linear Regression Case Study 8\n",
    "23.Linear Regression Case Study 8\n",
    "24.Linear Regression Case Study 8\n",
    "25.Linear Regression Case Study 8"
   ]
  },
  {
   "cell_type": "code",
   "execution_count": null,
   "id": "3180ca42",
   "metadata": {},
   "outputs": [],
   "source": [
    "### Linear Regression Tutorials"
   ]
  },
  {
   "cell_type": "code",
   "execution_count": null,
   "id": "28a2937c",
   "metadata": {},
   "outputs": [],
   "source": []
  },
  {
   "cell_type": "code",
   "execution_count": null,
   "id": "a0befa59",
   "metadata": {},
   "outputs": [],
   "source": []
  },
  {
   "cell_type": "code",
   "execution_count": null,
   "id": "fedcebe2",
   "metadata": {},
   "outputs": [],
   "source": []
  },
  {
   "cell_type": "code",
   "execution_count": null,
   "id": "68de3fdc",
   "metadata": {},
   "outputs": [],
   "source": []
  },
  {
   "cell_type": "code",
   "execution_count": null,
   "id": "3bca570e",
   "metadata": {},
   "outputs": [],
   "source": []
  },
  {
   "cell_type": "code",
   "execution_count": null,
   "id": "9188f647",
   "metadata": {},
   "outputs": [],
   "source": []
  },
  {
   "cell_type": "code",
   "execution_count": null,
   "id": "025b6959",
   "metadata": {},
   "outputs": [],
   "source": []
  },
  {
   "cell_type": "code",
   "execution_count": null,
   "id": "1be66f0c",
   "metadata": {},
   "outputs": [],
   "source": []
  },
  {
   "cell_type": "code",
   "execution_count": null,
   "id": "2f60f06c",
   "metadata": {},
   "outputs": [],
   "source": []
  },
  {
   "cell_type": "code",
   "execution_count": null,
   "id": "ffdcffa3",
   "metadata": {},
   "outputs": [],
   "source": []
  },
  {
   "cell_type": "code",
   "execution_count": null,
   "id": "297673c9",
   "metadata": {},
   "outputs": [],
   "source": []
  },
  {
   "cell_type": "code",
   "execution_count": null,
   "id": "94a83d53",
   "metadata": {},
   "outputs": [],
   "source": []
  },
  {
   "cell_type": "code",
   "execution_count": null,
   "id": "34cfc64d",
   "metadata": {},
   "outputs": [],
   "source": []
  },
  {
   "cell_type": "code",
   "execution_count": null,
   "id": "38621fe6",
   "metadata": {},
   "outputs": [],
   "source": []
  },
  {
   "cell_type": "code",
   "execution_count": null,
   "id": "e0647beb",
   "metadata": {},
   "outputs": [],
   "source": []
  }
 ],
 "metadata": {
  "kernelspec": {
   "display_name": "Python 3",
   "language": "python",
   "name": "python3"
  },
  "language_info": {
   "codemirror_mode": {
    "name": "ipython",
    "version": 3
   },
   "file_extension": ".py",
   "mimetype": "text/x-python",
   "name": "python",
   "nbconvert_exporter": "python",
   "pygments_lexer": "ipython3",
   "version": "3.8.8"
  }
 },
 "nbformat": 4,
 "nbformat_minor": 5
}
